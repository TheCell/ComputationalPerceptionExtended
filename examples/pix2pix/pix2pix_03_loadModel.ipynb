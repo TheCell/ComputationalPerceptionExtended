{
 "cells": [
  {
   "cell_type": "code",
   "execution_count": 1,
   "metadata": {},
   "outputs": [
    {
     "name": "stderr",
     "output_type": "stream",
     "text": [
      "Using TensorFlow backend.\n"
     ]
    }
   ],
   "source": [
    "import os\n",
    "import sys\n",
    "import time\n",
    "import argparse\n",
    "import numpy as np\n",
    "from keras.utils import generic_utils\n",
    "from keras.optimizers import Adam, SGD\n",
    "import keras.backend as K"
   ]
  },
  {
   "cell_type": "code",
   "execution_count": 4,
   "metadata": {},
   "outputs": [
    {
     "data": {
      "text/plain": [
       "['',\n",
       " 'C:\\\\Users\\\\simon\\\\AppData\\\\Local\\\\conda\\\\conda\\\\envs\\\\tf\\\\python36.zip',\n",
       " 'C:\\\\Users\\\\simon\\\\AppData\\\\Local\\\\conda\\\\conda\\\\envs\\\\tf\\\\DLLs',\n",
       " 'C:\\\\Users\\\\simon\\\\AppData\\\\Local\\\\conda\\\\conda\\\\envs\\\\tf\\\\lib',\n",
       " 'C:\\\\Users\\\\simon\\\\AppData\\\\Local\\\\conda\\\\conda\\\\envs\\\\tf',\n",
       " 'C:\\\\Users\\\\simon\\\\AppData\\\\Local\\\\conda\\\\conda\\\\envs\\\\tf\\\\lib\\\\site-packages',\n",
       " 'C:\\\\Users\\\\simon\\\\AppData\\\\Local\\\\conda\\\\conda\\\\envs\\\\tf\\\\lib\\\\site-packages\\\\win32',\n",
       " 'C:\\\\Users\\\\simon\\\\AppData\\\\Local\\\\conda\\\\conda\\\\envs\\\\tf\\\\lib\\\\site-packages\\\\win32\\\\lib',\n",
       " 'C:\\\\Users\\\\simon\\\\AppData\\\\Local\\\\conda\\\\conda\\\\envs\\\\tf\\\\lib\\\\site-packages\\\\Pythonwin',\n",
       " 'C:\\\\Users\\\\simon\\\\AppData\\\\Local\\\\conda\\\\conda\\\\envs\\\\tf\\\\lib\\\\site-packages\\\\IPython\\\\extensions',\n",
       " 'C:\\\\Users\\\\simon\\\\.ipython',\n",
       " 'src/utils',\n",
       " '../model',\n",
       " 'src/utils',\n",
       " 'model']"
      ]
     },
     "execution_count": 4,
     "metadata": {},
     "output_type": "execute_result"
    }
   ],
   "source": [
    "# Utils\n",
    "sys.path.append(\"src/utils\")\n",
    "import general_utils\n",
    "import data_utils\n",
    "\n",
    "sys.path.append(\"model\")\n",
    "import models"
   ]
  },
  {
   "cell_type": "code",
   "execution_count": 5,
   "metadata": {},
   "outputs": [
    {
     "ename": "AttributeError",
     "evalue": "module 'models' has no attribute 'load'",
     "output_type": "error",
     "traceback": [
      "\u001b[1;31m---------------------------------------------------------------------------\u001b[0m",
      "\u001b[1;31mAttributeError\u001b[0m                            Traceback (most recent call last)",
      "\u001b[1;32m<ipython-input-5-412ae0f401a7>\u001b[0m in \u001b[0;36m<module>\u001b[1;34m\u001b[0m\n\u001b[0;32m      8\u001b[0m \u001b[1;33m\u001b[0m\u001b[0m\n\u001b[0;32m      9\u001b[0m \u001b[1;31m# Load generator model\u001b[0m\u001b[1;33m\u001b[0m\u001b[1;33m\u001b[0m\u001b[0m\n\u001b[1;32m---> 10\u001b[1;33m generator_model = models.load(\"generator_unet_%s\" % generator,\n\u001b[0m\u001b[0;32m     11\u001b[0m                               \u001b[0mimg_dim\u001b[0m\u001b[1;33m,\u001b[0m\u001b[1;33m\u001b[0m\u001b[0m\n\u001b[0;32m     12\u001b[0m                               \u001b[0mnb_patch\u001b[0m\u001b[1;33m,\u001b[0m\u001b[1;33m\u001b[0m\u001b[0m\n",
      "\u001b[1;31mAttributeError\u001b[0m: module 'models' has no attribute 'load'"
     ]
    }
   ],
   "source": [
    "generator = \"upsampling\"\n",
    "img_dim = [64, 64]\n",
    "patch_size = [64, 64]\n",
    "image_data_format = \"channels_last\"\n",
    "nb_patch = data_utils.get_nb_patch(img_dim, patch_size, image_data_format)\n",
    "use_mbd = \"store_true\"\n",
    "batch_size = 4\n",
    "\n",
    "# Load generator model\n",
    "generator_model = models.load(\"generator_unet_%s\" % generator,\n",
    "                              img_dim,\n",
    "                              nb_patch,\n",
    "                              bn_mode,\n",
    "                              use_mbd,\n",
    "                              batch_size)"
   ]
  },
  {
   "cell_type": "code",
   "execution_count": null,
   "metadata": {},
   "outputs": [],
   "source": []
  }
 ],
 "metadata": {
  "kernelspec": {
   "display_name": "Python 3",
   "language": "python",
   "name": "python3"
  },
  "language_info": {
   "codemirror_mode": {
    "name": "ipython",
    "version": 3
   },
   "file_extension": ".py",
   "mimetype": "text/x-python",
   "name": "python",
   "nbconvert_exporter": "python",
   "pygments_lexer": "ipython3",
   "version": "3.6.6"
  }
 },
 "nbformat": 4,
 "nbformat_minor": 2
}
