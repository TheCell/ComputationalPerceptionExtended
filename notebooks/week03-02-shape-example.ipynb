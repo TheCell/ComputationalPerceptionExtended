{
 "cells": [
  {
   "cell_type": "markdown",
   "metadata": {},
   "source": [
    "# Reference\n",
    "\n",
    "To run this code you will need to install [Matplotlib](https://matplotlib.org/users/installing.html) and [Numpy](https://www.scipy.org/install.html)\n",
    "\n",
    "If you like to run the example locally follow the instructions provided on [Keras website](https://keras.io/#installation)\n",
    "\n",
    "It's __strongly__ suggested to use a Python environments manager such as [Conda](https://conda.io/docs/) or some kind of [VirutalEnv](#)\n",
    "\n",
    "---"
   ]
  },
  {
   "cell_type": "code",
   "execution_count": 1,
   "metadata": {},
   "outputs": [
    {
     "name": "stderr",
     "output_type": "stream",
     "text": [
      "Using TensorFlow backend.\n"
     ]
    },
    {
     "data": {
      "text/plain": [
       "'2.2.2'"
      ]
     },
     "execution_count": 1,
     "metadata": {},
     "output_type": "execute_result"
    }
   ],
   "source": [
    "import keras\n",
    "keras.__version__"
   ]
  },
  {
   "cell_type": "markdown",
   "metadata": {},
   "source": [
    "# A second look at a neural network\n",
    "\n",
    "Let's try to adapt the shape classification model built with the `toyNN` in js before.\n",
    "\n",
    "We first need to create a dataset _manually_ to do we will define a `draw_shape` function that will help generating some random shape"
   ]
  },
  {
   "cell_type": "code",
   "execution_count": 2,
   "metadata": {},
   "outputs": [],
   "source": [
    "import math\n",
    "import random\n",
    "import matplotlib.pyplot as plt\n",
    "import numpy as np\n",
    "\n",
    "# 0 = rectangle, 1 = triangle, 2 = ellipse\n",
    "# return shape\n",
    "def draw_shape(max_size, type):\n",
    "    \n",
    "    # Random size and fixed coordinate\n",
    "#     s = math.floor(random.randrange(1, max_size-4))\n",
    "#     x = math.floor(max_size/2)\n",
    "#     y = math.floor(max_size/2)\n",
    "\n",
    "    # Not so random size and random coordinate\n",
    "    s = int(random.randrange(max_size/2, max_size))\n",
    "    x = int(random.randrange(int(s/2), max_size-int(s/2)))\n",
    "    y = int(random.randrange(int(s/2), max_size-int(s/2)))\n",
    "\n",
    "    type = type%3\n",
    "    \n",
    "    if type == 0:\n",
    "        art = plt.Rectangle((x-s/2, y-s/2), s, s, color='r')\n",
    "\n",
    "    if type == 1:\n",
    "        verts = [\n",
    "            (x-s/2, y-s/2),\n",
    "            (x, y+s/2),\n",
    "            (x+s/2, y-s/2)\n",
    "        ]\n",
    "        art = plt.Polygon(verts, color='r')\n",
    "\n",
    "    if type == 2:\n",
    "        art = plt.Circle((x, y), s/2, color='r')\n",
    "    \n",
    "    return art"
   ]
  },
  {
   "cell_type": "markdown",
   "metadata": {},
   "source": [
    "We also define a helper function that convert a matplotlib figure to a np array"
   ]
  },
  {
   "cell_type": "code",
   "execution_count": 3,
   "metadata": {},
   "outputs": [],
   "source": [
    "# https://stackoverflow.com/a/7821917\n",
    "def fig2rgb_array(fig):\n",
    "    fig.canvas.draw()\n",
    "    buf = fig.canvas.tostring_rgb()\n",
    "    ncols, nrows = fig.canvas.get_width_height()\n",
    "    return np.frombuffer(buf, dtype=np.uint8).reshape(nrows, ncols, 3)"
   ]
  },
  {
   "cell_type": "markdown",
   "metadata": {},
   "source": [
    "Let's test the function see if it works as expected"
   ]
  },
  {
   "cell_type": "code",
   "execution_count": 4,
   "metadata": {},
   "outputs": [
    {
     "name": "stdout",
     "output_type": "stream",
     "text": [
      "(48, 48, 3)\n"
     ]
    },
    {
     "data": {
      "image/png": "[encoded data removed]",
      "text/plain": [
       "<Figure size 48x48 with 1 Axes>"
      ]
     },
     "metadata": {
      "needs_background": "light"
     },
     "output_type": "display_data"
    }
   ],
   "source": [
    "# Image and dataset size we are going to use\n",
    "image_size = 48\n",
    "dataset_size = 5000\n",
    "\n",
    "# Create plot's figure and axes\n",
    "# https://stackoverflow.com/a/638443\n",
    "fig = plt.figure(figsize=(1,1), dpi=image_size)\n",
    "ax = fig.add_subplot(111)\n",
    "\n",
    "# Setting for the axes\n",
    "ax.set_xlim(0,image_size)\n",
    "ax.set_ylim(0,image_size)\n",
    "# ax.axis('off')\n",
    "\n",
    "# Draw a random shape\n",
    "art = draw_shape(image_size,random.randint(0,2))\n",
    "# Add the shape to the plot\n",
    "# https://stackoverflow.com/a/29184075\n",
    "plt.gcf().gca().add_artist(art)\n",
    "# gcf() means Get Current Figure\n",
    "# gca() means Get Current Axis\n",
    "\n",
    "# convert the figure to an array\n",
    "data = fig2rgb_array(fig)\n",
    "print(data.shape)"
   ]
  },
  {
   "cell_type": "markdown",
   "metadata": {},
   "source": [
    "Let's create a loop that will generate a small dataset for us"
   ]
  },
  {
   "cell_type": "code",
   "execution_count": 5,
   "metadata": {},
   "outputs": [
    {
     "name": "stdout",
     "output_type": "stream",
     "text": [
      "(5000, 48, 48, 3)\n",
      "(5000,)\n"
     ]
    },
    {
     "data": {
      "image/png": "[encoded data removed]",
      "text/plain": [
       "<Figure size 48x48 with 1 Axes>"
      ]
     },
     "metadata": {
      "needs_background": "light"
     },
     "output_type": "display_data"
    }
   ],
   "source": [
    "def generate_dataset(image_size, dataset_size):\n",
    "\n",
    "    # Those variable will contain the images and associated labels\n",
    "    images = np.zeros((dataset_size, image_size, image_size, 3))\n",
    "    labels = np.zeros((dataset_size))\n",
    "    \n",
    "    # The plot figure we will use to generate the shapes\n",
    "    fig = plt.figure(figsize=(1,1), dpi=image_size)\n",
    "\n",
    "    for i in range(dataset_size):\n",
    "        \n",
    "        # Clear the figure\n",
    "        fig.clf()\n",
    "        \n",
    "        # Recreate the axes\n",
    "        ax = fig.add_subplot(111)\n",
    "        ax.set_xlim(0, image_size)\n",
    "        ax.set_ylim(0, image_size)\n",
    "        ax.axis('off')\n",
    "        \n",
    "        # Define label\n",
    "        label = i%3\n",
    "        art = draw_shape(image_size, label)\n",
    "        plt.gcf().gca().add_artist(art)\n",
    "        \n",
    "        # Add values to the arrays\n",
    "        images[i] = fig2rgb_array(fig)\n",
    "        labels[i] = label\n",
    "        \n",
    "    return images, labels\n",
    "\n",
    "# Generate our dataset\n",
    "images, labels = generate_dataset(image_size, dataset_size)\n",
    "print(images.shape)\n",
    "print(labels.shape)"
   ]
  },
  {
   "cell_type": "markdown",
   "metadata": {},
   "source": [
    "Eventually we can save our dataset for later, since it takes quite some time to generate it 😉"
   ]
  },
  {
   "cell_type": "code",
   "execution_count": 6,
   "metadata": {},
   "outputs": [],
   "source": [
    "# np.save('datasets/shape-example-shapes4.npy', images)\n",
    "# np.save('datasets/shape-example-labels1.npy', labels)"
   ]
  },
  {
   "cell_type": "markdown",
   "metadata": {},
   "source": [
    "If we need to load it we can then use the following code"
   ]
  },
  {
   "cell_type": "code",
   "execution_count": 8,
   "metadata": {},
   "outputs": [],
   "source": [
    "images = np.load('datasets/shape-example-shapes1.npy')\n",
    "labels = np.load('datasets/shape-example-labels1.npy')"
   ]
  },
  {
   "cell_type": "markdown",
   "metadata": {},
   "source": [
    "We split our dataset manually in training and testing set"
   ]
  },
  {
   "cell_type": "code",
   "execution_count": 9,
   "metadata": {},
   "outputs": [
    {
     "name": "stdout",
     "output_type": "stream",
     "text": [
      "(4000, 48, 48, 3)\n",
      "(4000,)\n"
     ]
    },
    {
     "data": {
      "text/plain": [
       "<matplotlib.image.AxesImage at 0x26a270cda58>"
      ]
     },
     "execution_count": 9,
     "metadata": {},
     "output_type": "execute_result"
    },
    {
     "data": {
      "image/png": "[encoded data removed]",
      "text/plain": [
       "<Figure size 1152x288 with 1 Axes>"
      ]
     },
     "metadata": {
      "needs_background": "light"
     },
     "output_type": "display_data"
    }
   ],
   "source": [
    "# Define the size of the training set, here we use 80% of the total samples for training\n",
    "train_size = int(dataset_size*.8)\n",
    "\n",
    "# TODO: We should shuffle the dataset\n",
    "\n",
    "# Split the dataset into train and test dataset\n",
    "train_images, test_images = images[:train_size], images[train_size:]\n",
    "train_labels, test_labels = labels[:train_size], labels[train_size:]\n",
    "\n",
    "# Verify the data\n",
    "print(train_images.shape)\n",
    "print(train_labels.shape)\n",
    "\n",
    "# sample_images = []\n",
    "# for label, image in list(zip(train_labels, train_images))[:10]:\n",
    "#     fig1, ax1 = plt.subplots()\n",
    "#     ax1.axis('off')\n",
    "#     plt.title(label)\n",
    "#     fig1.add_subplot(111).imshow(image/255)\n",
    "\n",
    "full_image = np.concatenate(train_images[:12]/255, axis=1)\n",
    "plt.figure(figsize=(16,4))\n",
    "plt.imshow(full_image)"
   ]
  },
  {
   "cell_type": "markdown",
   "metadata": {},
   "source": [
    "Now we can create our model"
   ]
  },
  {
   "cell_type": "code",
   "execution_count": 10,
   "metadata": {},
   "outputs": [],
   "source": [
    "from keras import models\n",
    "from keras import layers\n",
    "\n",
    "network = models.Sequential()\n",
    "network.add(layers.Dense(512, activation='sigmoid', input_shape=(3 * image_size * image_size,)))\n",
    "network.add(layers.Dense(3, activation='softmax'))"
   ]
  },
  {
   "cell_type": "markdown",
   "metadata": {},
   "source": [
    "And compile it"
   ]
  },
  {
   "cell_type": "code",
   "execution_count": 11,
   "metadata": {},
   "outputs": [],
   "source": [
    "network.compile(optimizer='adam',\n",
    "                loss='categorical_crossentropy',\n",
    "                metrics=['accuracy'])"
   ]
  },
  {
   "cell_type": "markdown",
   "metadata": {},
   "source": [
    "Before training, we will preprocess our data by reshaping it into the shape that the network expects, and scaling it so that all values are in the `[0, 1]` interval. Then we also need to categorically encode the labels."
   ]
  },
  {
   "cell_type": "code",
   "execution_count": 12,
   "metadata": {},
   "outputs": [],
   "source": [
    "# Reshape data\n",
    "train_images = train_images.reshape((len(train_images), 3 * image_size * image_size))\n",
    "train_images = train_images.astype('float32') / 255\n",
    "\n",
    "test_images = test_images.reshape((len(test_images), 3 * image_size * image_size))\n",
    "test_images = test_images.astype('float32') / 255\n",
    "\n",
    "# Encode to categorical\n",
    "from keras.utils import to_categorical\n",
    "\n",
    "train_labels = to_categorical(train_labels)\n",
    "test_labels = to_categorical(test_labels)"
   ]
  },
  {
   "cell_type": "markdown",
   "metadata": {},
   "source": [
    "Then we can start the training"
   ]
  },
  {
   "cell_type": "code",
   "execution_count": 13,
   "metadata": {},
   "outputs": [
    {
     "name": "stdout",
     "output_type": "stream",
     "text": [
      "Epoch 1/100\n",
      "4000/4000 [==============================] - 3s 632us/step - loss: 1.5652 - acc: 0.5182\n",
      "Epoch 2/100\n",
      "4000/4000 [==============================] - 2s 468us/step - loss: 0.7123 - acc: 0.6445\n",
      "Epoch 3/100\n",
      "4000/4000 [==============================] - 2s 470us/step - loss: 0.6019 - acc: 0.7332\n",
      "Epoch 4/100\n",
      "4000/4000 [==============================] - 2s 474us/step - loss: 0.5196 - acc: 0.8438\n",
      "Epoch 5/100\n",
      "4000/4000 [==============================] - 2s 470us/step - loss: 0.4150 - acc: 0.8932\n",
      "Epoch 6/100\n",
      "4000/4000 [==============================] - 2s 466us/step - loss: 0.3292 - acc: 0.9233\n",
      "Epoch 7/100\n",
      "4000/4000 [==============================] - 2s 470us/step - loss: 0.3009 - acc: 0.9105\n",
      "Epoch 8/100\n",
      "4000/4000 [==============================] - 2s 507us/step - loss: 0.2570 - acc: 0.9293\n",
      "Epoch 9/100\n",
      "4000/4000 [==============================] - 2s 513us/step - loss: 0.2219 - acc: 0.9375\n",
      "Epoch 10/100\n",
      "4000/4000 [==============================] - 2s 472us/step - loss: 0.2054 - acc: 0.9407 0s - loss: 0.2066 - acc:\n",
      "Epoch 11/100\n",
      "4000/4000 [==============================] - 2s 484us/step - loss: 0.1907 - acc: 0.9427 1s \n",
      "Epoch 12/100\n",
      "4000/4000 [==============================] - 2s 478us/step - loss: 0.1775 - acc: 0.9517\n",
      "Epoch 13/100\n",
      "4000/4000 [==============================] - 2s 480us/step - loss: 0.1507 - acc: 0.9607\n",
      "Epoch 14/100\n",
      "4000/4000 [==============================] - 2s 477us/step - loss: 0.1481 - acc: 0.9560\n",
      "Epoch 15/100\n",
      "4000/4000 [==============================] - 2s 481us/step - loss: 0.1314 - acc: 0.9680\n",
      "Epoch 16/100\n",
      "4000/4000 [==============================] - 2s 475us/step - loss: 0.1266 - acc: 0.9645\n",
      "Epoch 17/100\n",
      "4000/4000 [==============================] - 2s 480us/step - loss: 0.1165 - acc: 0.9705\n",
      "Epoch 18/100\n",
      "4000/4000 [==============================] - 2s 474us/step - loss: 0.1681 - acc: 0.9510\n",
      "Epoch 19/100\n",
      "4000/4000 [==============================] - 2s 471us/step - loss: 0.1321 - acc: 0.9682\n",
      "Epoch 20/100\n",
      "4000/4000 [==============================] - 2s 466us/step - loss: 0.1122 - acc: 0.9745\n",
      "Epoch 21/100\n",
      "4000/4000 [==============================] - 2s 469us/step - loss: 0.1162 - acc: 0.9665\n",
      "Epoch 22/100\n",
      "4000/4000 [==============================] - 2s 464us/step - loss: 0.1084 - acc: 0.9753\n",
      "Epoch 23/100\n",
      "4000/4000 [==============================] - 2s 469us/step - loss: 0.0989 - acc: 0.9778\n",
      "Epoch 24/100\n",
      "4000/4000 [==============================] - 2s 467us/step - loss: 0.1382 - acc: 0.9577\n",
      "Epoch 25/100\n",
      "4000/4000 [==============================] - 2s 514us/step - loss: 0.0961 - acc: 0.9775 1s - l\n",
      "Epoch 26/100\n",
      "4000/4000 [==============================] - 2s 482us/step - loss: 0.0790 - acc: 0.9848\n",
      "Epoch 27/100\n",
      "4000/4000 [==============================] - 2s 462us/step - loss: 0.0856 - acc: 0.9813\n",
      "Epoch 28/100\n",
      "4000/4000 [==============================] - 2s 475us/step - loss: 0.0961 - acc: 0.9740\n",
      "Epoch 29/100\n",
      "4000/4000 [==============================] - 2s 464us/step - loss: 0.0927 - acc: 0.9792\n",
      "Epoch 30/100\n",
      "4000/4000 [==============================] - 2s 471us/step - loss: 0.0795 - acc: 0.9815 0s - loss: 0.0801 - acc: 0\n",
      "Epoch 31/100\n",
      "4000/4000 [==============================] - 2s 476us/step - loss: 0.0720 - acc: 0.9855 1s - loss: 0.\n",
      "Epoch 32/100\n",
      "4000/4000 [==============================] - 2s 474us/step - loss: 0.0704 - acc: 0.9848 0s - loss: 0.0686 - acc: \n",
      "Epoch 33/100\n",
      "4000/4000 [==============================] - 2s 493us/step - loss: 0.0727 - acc: 0.9832\n",
      "Epoch 34/100\n",
      "4000/4000 [==============================] - 2s 487us/step - loss: 0.0683 - acc: 0.9850\n",
      "Epoch 35/100\n",
      "4000/4000 [==============================] - 2s 463us/step - loss: 0.0575 - acc: 0.9888\n",
      "Epoch 36/100\n",
      "4000/4000 [==============================] - 2s 475us/step - loss: 0.0545 - acc: 0.9895\n",
      "Epoch 37/100\n",
      "4000/4000 [==============================] - 2s 467us/step - loss: 0.0494 - acc: 0.9912\n",
      "Epoch 38/100\n",
      "4000/4000 [==============================] - 2s 467us/step - loss: 0.0510 - acc: 0.9895\n",
      "Epoch 39/100\n",
      "4000/4000 [==============================] - 2s 471us/step - loss: 0.0594 - acc: 0.9882\n",
      "Epoch 40/100\n",
      "4000/4000 [==============================] - 2s 470us/step - loss: 0.0540 - acc: 0.9898\n",
      "Epoch 41/100\n",
      "4000/4000 [==============================] - 2s 467us/step - loss: 0.0520 - acc: 0.9912\n",
      "Epoch 42/100\n",
      "4000/4000 [==============================] - 2s 514us/step - loss: 0.0437 - acc: 0.9910 1s - loss: 0. - ETA: 0s - loss: 0.0442 - acc: \n",
      "Epoch 43/100\n",
      "4000/4000 [==============================] - 2s 500us/step - loss: 0.0424 - acc: 0.9930 1s - loss: 0.0465  - ETA: 0s - loss: 0.0445 - \n",
      "Epoch 44/100\n",
      "4000/4000 [==============================] - 2s 471us/step - loss: 0.0355 - acc: 0.9950\n",
      "Epoch 45/100\n",
      "4000/4000 [==============================] - 2s 530us/step - loss: 0.0336 - acc: 0.9948 0s - loss: 0.0328 - acc: 0.99\n",
      "Epoch 46/100\n",
      "4000/4000 [==============================] - 2s 596us/step - loss: 0.0335 - acc: 0.9955\n",
      "Epoch 47/100\n",
      "4000/4000 [==============================] - 3s 627us/step - loss: 0.0361 - acc: 0.9955\n",
      "Epoch 48/100\n",
      "4000/4000 [==============================] - 2s 561us/step - loss: 0.0327 - acc: 0.9968\n",
      "Epoch 49/100\n",
      "4000/4000 [==============================] - 2s 489us/step - loss: 0.0295 - acc: 0.9968\n",
      "Epoch 50/100\n",
      "4000/4000 [==============================] - 2s 470us/step - loss: 0.0364 - acc: 0.9930\n",
      "Epoch 51/100\n",
      "4000/4000 [==============================] - 2s 462us/step - loss: 0.0299 - acc: 0.9980\n",
      "Epoch 52/100\n",
      "4000/4000 [==============================] - 2s 466us/step - loss: 0.0260 - acc: 0.9988\n",
      "Epoch 53/100\n",
      "4000/4000 [==============================] - 2s 462us/step - loss: 0.0249 - acc: 0.9982\n",
      "Epoch 54/100\n",
      "4000/4000 [==============================] - 2s 468us/step - loss: 0.0237 - acc: 0.9980\n",
      "Epoch 55/100\n",
      "4000/4000 [==============================] - 2s 474us/step - loss: 0.0251 - acc: 0.9982 1s \n",
      "Epoch 56/100\n",
      "4000/4000 [==============================] - 2s 477us/step - loss: 0.0264 - acc: 0.9978\n",
      "Epoch 57/100\n",
      "4000/4000 [==============================] - 2s 499us/step - loss: 0.0219 - acc: 0.9982\n",
      "Epoch 58/100\n",
      "4000/4000 [==============================] - 2s 492us/step - loss: 0.0218 - acc: 0.9990\n",
      "Epoch 59/100\n",
      "4000/4000 [==============================] - 2s 513us/step - loss: 0.0218 - acc: 0.9980\n",
      "Epoch 60/100\n",
      "4000/4000 [==============================] - 2s 480us/step - loss: 0.0271 - acc: 0.9975\n",
      "Epoch 61/100\n",
      "4000/4000 [==============================] - 2s 477us/step - loss: 0.0255 - acc: 0.9985\n",
      "Epoch 62/100\n",
      "4000/4000 [==============================] - 2s 463us/step - loss: 0.0207 - acc: 0.9988 0s - loss: 0.0201 - ac\n",
      "Epoch 63/100\n",
      "4000/4000 [==============================] - 2s 459us/step - loss: 0.0183 - acc: 0.9995\n",
      "Epoch 64/100\n",
      "4000/4000 [==============================] - 2s 460us/step - loss: 0.0196 - acc: 0.9990\n",
      "Epoch 65/100\n",
      "4000/4000 [==============================] - 2s 467us/step - loss: 0.0173 - acc: 0.9995\n",
      "Epoch 66/100\n",
      "4000/4000 [==============================] - 2s 464us/step - loss: 0.0171 - acc: 0.9990 0s - loss: 0.0169 -\n",
      "Epoch 67/100\n",
      "4000/4000 [==============================] - 2s 459us/step - loss: 0.0161 - acc: 0.9998\n",
      "Epoch 68/100\n",
      "4000/4000 [==============================] - 2s 464us/step - loss: 0.0155 - acc: 0.9993\n",
      "Epoch 69/100\n",
      "4000/4000 [==============================] - 2s 460us/step - loss: 0.0166 - acc: 0.9998\n",
      "Epoch 70/100\n",
      "4000/4000 [==============================] - 2s 459us/step - loss: 0.0169 - acc: 0.9988\n",
      "Epoch 71/100\n",
      "4000/4000 [==============================] - 2s 465us/step - loss: 0.0241 - acc: 0.9980\n",
      "Epoch 72/100\n",
      "4000/4000 [==============================] - 2s 459us/step - loss: 0.0176 - acc: 1.0000\n",
      "Epoch 73/100\n",
      "4000/4000 [==============================] - 2s 464us/step - loss: 0.0138 - acc: 0.9998\n",
      "Epoch 74/100\n",
      "4000/4000 [==============================] - 2s 462us/step - loss: 0.0129 - acc: 1.0000\n",
      "Epoch 75/100\n",
      "4000/4000 [==============================] - 2s 473us/step - loss: 0.0122 - acc: 1.0000\n",
      "Epoch 76/100\n",
      "4000/4000 [==============================] - 2s 528us/step - loss: 0.0116 - acc: 1.0000\n",
      "Epoch 77/100\n",
      "4000/4000 [==============================] - 2s 461us/step - loss: 0.0130 - acc: 0.9995\n",
      "Epoch 78/100\n",
      "4000/4000 [==============================] - 2s 464us/step - loss: 0.0136 - acc: 0.9995\n",
      "Epoch 79/100\n"
     ]
    },
    {
     "name": "stdout",
     "output_type": "stream",
     "text": [
      "4000/4000 [==============================] - 2s 485us/step - loss: 0.0129 - acc: 0.9995\n",
      "Epoch 80/100\n",
      "4000/4000 [==============================] - 2s 468us/step - loss: 0.0109 - acc: 0.9995\n",
      "Epoch 81/100\n",
      "4000/4000 [==============================] - 2s 468us/step - loss: 0.0160 - acc: 0.9990\n",
      "Epoch 82/100\n",
      "4000/4000 [==============================] - 2s 472us/step - loss: 0.0105 - acc: 1.0000\n",
      "Epoch 83/100\n",
      "4000/4000 [==============================] - 2s 467us/step - loss: 0.0102 - acc: 1.0000\n",
      "Epoch 84/100\n",
      "4000/4000 [==============================] - 2s 468us/step - loss: 0.0094 - acc: 1.0000\n",
      "Epoch 85/100\n",
      "4000/4000 [==============================] - 2s 456us/step - loss: 0.0093 - acc: 1.0000\n",
      "Epoch 86/100\n",
      "4000/4000 [==============================] - 2s 443us/step - loss: 0.0125 - acc: 1.0000\n",
      "Epoch 87/100\n",
      "4000/4000 [==============================] - 2s 451us/step - loss: 0.0100 - acc: 1.0000\n",
      "Epoch 88/100\n",
      "4000/4000 [==============================] - 2s 439us/step - loss: 0.0087 - acc: 1.0000\n",
      "Epoch 89/100\n",
      "4000/4000 [==============================] - 2s 442us/step - loss: 0.0085 - acc: 1.0000\n",
      "Epoch 90/100\n",
      "4000/4000 [==============================] - 2s 442us/step - loss: 0.0081 - acc: 1.0000\n",
      "Epoch 91/100\n",
      "4000/4000 [==============================] - 2s 438us/step - loss: 0.0078 - acc: 1.0000\n",
      "Epoch 92/100\n",
      "4000/4000 [==============================] - 2s 442us/step - loss: 0.0077 - acc: 1.0000\n",
      "Epoch 93/100\n",
      "4000/4000 [==============================] - 2s 473us/step - loss: 0.0075 - acc: 1.0000\n",
      "Epoch 94/100\n",
      "4000/4000 [==============================] - 2s 476us/step - loss: 0.0071 - acc: 1.0000\n",
      "Epoch 95/100\n",
      "4000/4000 [==============================] - 2s 436us/step - loss: 0.0071 - acc: 1.0000\n",
      "Epoch 96/100\n",
      "4000/4000 [==============================] - 2s 442us/step - loss: 0.0072 - acc: 1.0000\n",
      "Epoch 97/100\n",
      "4000/4000 [==============================] - 2s 439us/step - loss: 0.0075 - acc: 1.0000\n",
      "Epoch 98/100\n",
      "4000/4000 [==============================] - 2s 445us/step - loss: 0.0066 - acc: 1.0000\n",
      "Epoch 99/100\n",
      "4000/4000 [==============================] - 2s 447us/step - loss: 0.0068 - acc: 1.0000\n",
      "Epoch 100/100\n",
      "4000/4000 [==============================] - 2s 443us/step - loss: 0.0062 - acc: 1.0000\n"
     ]
    },
    {
     "data": {
      "text/plain": [
       "<keras.callbacks.History at 0x26a37d9f198>"
      ]
     },
     "execution_count": 13,
     "metadata": {},
     "output_type": "execute_result"
    }
   ],
   "source": [
    "network.fit(train_images, train_labels, epochs=100, batch_size=128)"
   ]
  },
  {
   "cell_type": "code",
   "execution_count": 14,
   "metadata": {},
   "outputs": [
    {
     "name": "stdout",
     "output_type": "stream",
     "text": [
      "1000/1000 [==============================] - 0s 210us/step\n"
     ]
    }
   ],
   "source": [
    "test_loss, test_acc = network.evaluate(test_images, test_labels)"
   ]
  },
  {
   "cell_type": "code",
   "execution_count": 15,
   "metadata": {},
   "outputs": [
    {
     "name": "stdout",
     "output_type": "stream",
     "text": [
      "test_acc: 0.994\n"
     ]
    }
   ],
   "source": [
    "print('test_acc:', test_acc)"
   ]
  },
  {
   "cell_type": "code",
   "execution_count": 16,
   "metadata": {},
   "outputs": [
    {
     "data": {
      "image/png": "[encoded data removed]",
      "text/plain": [
       "<Figure size 432x288 with 2 Axes>"
      ]
     },
     "metadata": {
      "needs_background": "light"
     },
     "output_type": "display_data"
    },
    {
     "data": {
      "image/png": "[encoded data removed]",
      "text/plain": [
       "<Figure size 432x288 with 2 Axes>"
      ]
     },
     "metadata": {
      "needs_background": "light"
     },
     "output_type": "display_data"
    },
    {
     "data": {
      "image/png": "[encoded data removed]",
      "text/plain": [
       "<Figure size 432x288 with 2 Axes>"
      ]
     },
     "metadata": {
      "needs_background": "light"
     },
     "output_type": "display_data"
    },
    {
     "data": {
      "image/png": "[encoded data removed]",
      "text/plain": [
       "<Figure size 432x288 with 2 Axes>"
      ]
     },
     "metadata": {
      "needs_background": "light"
     },
     "output_type": "display_data"
    },
    {
     "data": {
      "image/png": "[encoded data removed]",
      "text/plain": [
       "<Figure size 432x288 with 2 Axes>"
      ]
     },
     "metadata": {
      "needs_background": "light"
     },
     "output_type": "display_data"
    },
    {
     "data": {
      "image/png": "[encoded data removed]",
      "text/plain": [
       "<Figure size 432x288 with 2 Axes>"
      ]
     },
     "metadata": {
      "needs_background": "light"
     },
     "output_type": "display_data"
    }
   ],
   "source": [
    "for label, image in list(zip(test_labels, test_images)):\n",
    "    prediction = network.predict(np.array([image,]))\n",
    "    if not prediction.argmax() == label.argmax():\n",
    "        image = image.reshape(48, 48, 3)\n",
    "        fig1, ax1 = plt.subplots()\n",
    "        ax1.axis('off')\n",
    "        plt.title('predicted:' + str(prediction.argmax()))\n",
    "        fig1.add_subplot(111).imshow(image)    "
   ]
  },
  {
   "cell_type": "code",
   "execution_count": null,
   "metadata": {},
   "outputs": [],
   "source": []
  }
 ],
 "metadata": {
  "kernelspec": {
   "display_name": "Python 3",
   "language": "python",
   "name": "python3"
  },
  "language_info": {
   "codemirror_mode": {
    "name": "ipython",
    "version": 3
   },
   "file_extension": ".py",
   "mimetype": "text/x-python",
   "name": "python",
   "nbconvert_exporter": "python",
   "pygments_lexer": "ipython3",
   "version": "3.6.6"
  }
 },
 "nbformat": 4,
 "nbformat_minor": 2
}
